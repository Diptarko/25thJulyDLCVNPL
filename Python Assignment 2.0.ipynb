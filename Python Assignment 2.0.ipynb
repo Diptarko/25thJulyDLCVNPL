{
 "cells": [
  {
   "cell_type": "code",
   "execution_count": 1,
   "metadata": {},
   "outputs": [
    {
     "data": {
      "text/plain": [
       "'1. Create the below pattern using nested for loop in Python.\\n\\n*\\n* *\\n* * *\\n* * * *\\n* * * * *\\n* * * *\\n* * *\\n* *\\n*\\n'"
      ]
     },
     "execution_count": 1,
     "metadata": {},
     "output_type": "execute_result"
    }
   ],
   "source": [
    "'''1. Create the below pattern using nested for loop in Python.\n",
    "\n",
    "*\n",
    "* *\n",
    "* * *\n",
    "* * * *\n",
    "* * * * *\n",
    "* * * *\n",
    "* * *\n",
    "* *\n",
    "*\n",
    "'''"
   ]
  },
  {
   "cell_type": "markdown",
   "metadata": {},
   "source": [
    "1. Define a function to take as input the maximum number of stars that has to be printed.\n",
    "2. Set up a Loop  for ascent of the star pattern , the pattern rises in each line till it reaches the max number of stars.\n",
    "3. Line 1 should have 1 star, line 2 stars, till n star limit is reached.\n",
    "4. Now  setup another loop for the descending stars. So the line after n stars, should be looped for n-1 stars , till the last line\n",
    "contains just 1 star"
   ]
  },
  {
   "cell_type": "code",
   "execution_count": 2,
   "metadata": {},
   "outputs": [],
   "source": [
    "def print_stars(n):\n",
    "    if n <= 0:\n",
    "        # There should be a positive integer number for printing the stars. Else raise exception\n",
    "        raise ValueError(\"Sorry, n should be greater than  Zero\")\n",
    "    else:\n",
    "        for itr in range(n):\n",
    "            #First loop to loop from 0 to max number of stars to be printed.\n",
    "            # This is the outer for loop\n",
    "            for i in range(itr+1):\n",
    "                #This is the inner loop. Each line, print the max num of stars in that line, e:g 1 for 1st line,\n",
    "                #2 for 2nd line etc\n",
    "                print('*',end = ' ')\n",
    "            print('\\n')\n",
    "        while (itr > 0):\n",
    "            #Now we setup a while loop to keep a track of the descending stars\n",
    "            #As long as the previous iterator, which reached the value of n, doesnt decrement down till 0,\n",
    "            #keep looping to print the stars in each line.\n",
    "            itr -= 1\n",
    "            for i in range(itr+1):\n",
    "                print('*',end = ' ')\n",
    "            print('\\n')"
   ]
  },
  {
   "cell_type": "code",
   "execution_count": 21,
   "metadata": {},
   "outputs": [
    {
     "name": "stdout",
     "output_type": "stream",
     "text": [
      "* \n",
      "\n",
      "* * \n",
      "\n",
      "* * * \n",
      "\n",
      "* * * * \n",
      "\n",
      "* * * * * \n",
      "\n",
      "* * * * \n",
      "\n",
      "* * * \n",
      "\n",
      "* * \n",
      "\n",
      "* \n",
      "\n"
     ]
    }
   ],
   "source": [
    "try :\n",
    "    print_stars(5)\n",
    "except ValueError as e:\n",
    "    print(e.args[0])"
   ]
  },
  {
   "cell_type": "code",
   "execution_count": 22,
   "metadata": {},
   "outputs": [
    {
     "name": "stdout",
     "output_type": "stream",
     "text": [
      "Sorry, n should be greater than  Zero\n"
     ]
    }
   ],
   "source": [
    "try :\n",
    "    print_stars(0)\n",
    "except ValueError as e:\n",
    "    print(e.args[0])"
   ]
  },
  {
   "cell_type": "code",
   "execution_count": 2,
   "metadata": {},
   "outputs": [],
   "source": [
    "#2. Write a Python program to reverse a word after accepting the input from the user.\n",
    "# Input word: ineuron\n",
    "# Output: norueni\n"
   ]
  },
  {
   "cell_type": "code",
   "execution_count": null,
   "metadata": {},
   "outputs": [],
   "source": [
    "\n",
    "print(''.join(list(reversed(input('Please Enter a word')))))"
   ]
  },
  {
   "cell_type": "code",
   "execution_count": null,
   "metadata": {},
   "outputs": [],
   "source": [
    "#The iPython Notebook hangs when trying to run the input command. However the same works well with non-Ipython terminals like Idle\n",
    "#Please find the sample o/p from a Idle terminal"
   ]
  },
  {
   "cell_type": "code",
   "execution_count": null,
   "metadata": {},
   "outputs": [],
   "source": [
    "'''>>> print(''.join(list(reversed(input('Please Enter a word')))))\n",
    "Please Enter a word ineuron\n",
    "norueni \n",
    ">>> \n",
    "'''"
   ]
  },
  {
   "cell_type": "code",
   "execution_count": null,
   "metadata": {},
   "outputs": [],
   "source": []
  }
 ],
 "metadata": {
  "kernelspec": {
   "display_name": "Python 3",
   "language": "python",
   "name": "python3"
  },
  "language_info": {
   "codemirror_mode": {
    "name": "ipython",
    "version": 3
   },
   "file_extension": ".py",
   "mimetype": "text/x-python",
   "name": "python",
   "nbconvert_exporter": "python",
   "pygments_lexer": "ipython3",
   "version": "3.7.7"
  }
 },
 "nbformat": 4,
 "nbformat_minor": 4
}
